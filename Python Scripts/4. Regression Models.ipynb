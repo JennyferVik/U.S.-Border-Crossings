{
 "cells": [
  {
   "cell_type": "markdown",
   "id": "0dfb0e8d",
   "metadata": {},
   "source": [
    "### Importing libraries and data"
   ]
  },
  {
   "cell_type": "code",
   "execution_count": 1,
   "id": "16dfd659",
   "metadata": {},
   "outputs": [],
   "source": [
    "# importing libraries\n",
    "import pandas as pd\n",
    "import numpy as np\n",
    "import seaborn as sns\n",
    "import matplotlib\n",
    "import matplotlib.pyplot as plt\n",
    "import os\n",
    "import sklearn\n",
    "from sklearn.model_selection import train_test_split \n",
    "from sklearn.linear_model import LinearRegression\n",
    "from sklearn.metrics import mean_squared_error, r2_score\n",
    "from sklearn.preprocessing import OrdinalEncoder"
   ]
  },
  {
   "cell_type": "code",
   "execution_count": 2,
   "id": "8ac99495",
   "metadata": {},
   "outputs": [],
   "source": [
    "# Importing cleaned data\n",
    "path = r'/Users/jennyfevik/Desktop/Data'"
   ]
  },
  {
   "cell_type": "code",
   "execution_count": 3,
   "id": "55503fba",
   "metadata": {},
   "outputs": [],
   "source": [
    "df_border = pd.read_csv(os.path.join(path, 'Prepared', 'Border_Choropleth.csv'),index_col=0)"
   ]
  },
  {
   "cell_type": "markdown",
   "id": "839e9401",
   "metadata": {},
   "source": [
    "### Prepping for regression model"
   ]
  },
  {
   "cell_type": "code",
   "execution_count": 4,
   "id": "2152d375",
   "metadata": {},
   "outputs": [
    {
     "data": {
      "text/html": [
       "<div>\n",
       "<style scoped>\n",
       "    .dataframe tbody tr th:only-of-type {\n",
       "        vertical-align: middle;\n",
       "    }\n",
       "\n",
       "    .dataframe tbody tr th {\n",
       "        vertical-align: top;\n",
       "    }\n",
       "\n",
       "    .dataframe thead th {\n",
       "        text-align: right;\n",
       "    }\n",
       "</style>\n",
       "<table border=\"1\" class=\"dataframe\">\n",
       "  <thead>\n",
       "    <tr style=\"text-align: right;\">\n",
       "      <th></th>\n",
       "      <th>Port Name</th>\n",
       "      <th>State</th>\n",
       "      <th>Border</th>\n",
       "      <th>Crossing Method</th>\n",
       "      <th>Count of Crossing</th>\n",
       "      <th>Latitude</th>\n",
       "      <th>Longitude</th>\n",
       "      <th>Month</th>\n",
       "      <th>Year</th>\n",
       "      <th>Count Category</th>\n",
       "      <th>State Total</th>\n",
       "    </tr>\n",
       "  </thead>\n",
       "  <tbody>\n",
       "    <tr>\n",
       "      <th>0</th>\n",
       "      <td>Del Rio</td>\n",
       "      <td>Texas</td>\n",
       "      <td>US-Mexico Border</td>\n",
       "      <td>Trucks</td>\n",
       "      <td>5823</td>\n",
       "      <td>29.327</td>\n",
       "      <td>-100.928</td>\n",
       "      <td>Feb</td>\n",
       "      <td>2023</td>\n",
       "      <td>Low Crossings</td>\n",
       "      <td>4076706895</td>\n",
       "    </tr>\n",
       "    <tr>\n",
       "      <th>2</th>\n",
       "      <td>Skagway</td>\n",
       "      <td>Alaska</td>\n",
       "      <td>US-Canada Border</td>\n",
       "      <td>Pedestrians</td>\n",
       "      <td>1</td>\n",
       "      <td>59.630</td>\n",
       "      <td>-135.164</td>\n",
       "      <td>Feb</td>\n",
       "      <td>2023</td>\n",
       "      <td>Low Crossings</td>\n",
       "      <td>15399123</td>\n",
       "    </tr>\n",
       "    <tr>\n",
       "      <th>3</th>\n",
       "      <td>Brownsville</td>\n",
       "      <td>Texas</td>\n",
       "      <td>US-Mexico Border</td>\n",
       "      <td>Trains</td>\n",
       "      <td>70</td>\n",
       "      <td>25.952</td>\n",
       "      <td>-97.401</td>\n",
       "      <td>Feb</td>\n",
       "      <td>2023</td>\n",
       "      <td>Low Crossings</td>\n",
       "      <td>4076706895</td>\n",
       "    </tr>\n",
       "    <tr>\n",
       "      <th>4</th>\n",
       "      <td>Sault Sainte Marie</td>\n",
       "      <td>Michigan</td>\n",
       "      <td>US-Canada Border</td>\n",
       "      <td>Truck Containers Loaded</td>\n",
       "      <td>2322</td>\n",
       "      <td>46.509</td>\n",
       "      <td>-84.361</td>\n",
       "      <td>Feb</td>\n",
       "      <td>2023</td>\n",
       "      <td>Low Crossings</td>\n",
       "      <td>812680737</td>\n",
       "    </tr>\n",
       "    <tr>\n",
       "      <th>5</th>\n",
       "      <td>Lukeville</td>\n",
       "      <td>Arizona</td>\n",
       "      <td>US-Mexico Border</td>\n",
       "      <td>Pedestrians</td>\n",
       "      <td>6383</td>\n",
       "      <td>31.880</td>\n",
       "      <td>-112.817</td>\n",
       "      <td>Feb</td>\n",
       "      <td>2023</td>\n",
       "      <td>Low Crossings</td>\n",
       "      <td>1008310869</td>\n",
       "    </tr>\n",
       "  </tbody>\n",
       "</table>\n",
       "</div>"
      ],
      "text/plain": [
       "            Port Name     State            Border          Crossing Method  \\\n",
       "0             Del Rio     Texas  US-Mexico Border                   Trucks   \n",
       "2             Skagway    Alaska  US-Canada Border              Pedestrians   \n",
       "3         Brownsville     Texas  US-Mexico Border                   Trains   \n",
       "4  Sault Sainte Marie  Michigan  US-Canada Border  Truck Containers Loaded   \n",
       "5           Lukeville   Arizona  US-Mexico Border              Pedestrians   \n",
       "\n",
       "   Count of Crossing  Latitude  Longitude Month  Year Count Category  \\\n",
       "0               5823    29.327   -100.928   Feb  2023  Low Crossings   \n",
       "2                  1    59.630   -135.164   Feb  2023  Low Crossings   \n",
       "3                 70    25.952    -97.401   Feb  2023  Low Crossings   \n",
       "4               2322    46.509    -84.361   Feb  2023  Low Crossings   \n",
       "5               6383    31.880   -112.817   Feb  2023  Low Crossings   \n",
       "\n",
       "   State Total  \n",
       "0   4076706895  \n",
       "2     15399123  \n",
       "3   4076706895  \n",
       "4    812680737  \n",
       "5   1008310869  "
      ]
     },
     "execution_count": 4,
     "metadata": {},
     "output_type": "execute_result"
    }
   ],
   "source": [
    "df_border.head()"
   ]
  },
  {
   "cell_type": "code",
   "execution_count": 5,
   "id": "dc40ff48",
   "metadata": {},
   "outputs": [],
   "source": [
    "# adding Month date codes\n",
    "enc = OrdinalEncoder(categories=[['Jan','Feb','Mar', 'Apr', 'May', 'Jun', 'Jul', 'Aug', 'Sep', 'Oct', 'Nov', 'Dec']])"
   ]
  },
  {
   "cell_type": "code",
   "execution_count": 6,
   "id": "5da88c88",
   "metadata": {},
   "outputs": [],
   "source": [
    "encoded_month = enc.fit_transform(df_border[['Month']])"
   ]
  },
  {
   "cell_type": "code",
   "execution_count": 7,
   "id": "38e97440",
   "metadata": {},
   "outputs": [],
   "source": [
    "df_border['Month Code'] = encoded_month"
   ]
  },
  {
   "cell_type": "code",
   "execution_count": 8,
   "id": "0e2502cc",
   "metadata": {},
   "outputs": [
    {
     "data": {
      "text/html": [
       "<div>\n",
       "<style scoped>\n",
       "    .dataframe tbody tr th:only-of-type {\n",
       "        vertical-align: middle;\n",
       "    }\n",
       "\n",
       "    .dataframe tbody tr th {\n",
       "        vertical-align: top;\n",
       "    }\n",
       "\n",
       "    .dataframe thead th {\n",
       "        text-align: right;\n",
       "    }\n",
       "</style>\n",
       "<table border=\"1\" class=\"dataframe\">\n",
       "  <thead>\n",
       "    <tr style=\"text-align: right;\">\n",
       "      <th></th>\n",
       "      <th>Port Name</th>\n",
       "      <th>State</th>\n",
       "      <th>Border</th>\n",
       "      <th>Crossing Method</th>\n",
       "      <th>Count of Crossing</th>\n",
       "      <th>Latitude</th>\n",
       "      <th>Longitude</th>\n",
       "      <th>Month</th>\n",
       "      <th>Year</th>\n",
       "      <th>Count Category</th>\n",
       "      <th>State Total</th>\n",
       "      <th>Month Code</th>\n",
       "    </tr>\n",
       "  </thead>\n",
       "  <tbody>\n",
       "    <tr>\n",
       "      <th>0</th>\n",
       "      <td>Del Rio</td>\n",
       "      <td>Texas</td>\n",
       "      <td>US-Mexico Border</td>\n",
       "      <td>Trucks</td>\n",
       "      <td>5823</td>\n",
       "      <td>29.327</td>\n",
       "      <td>-100.928</td>\n",
       "      <td>Feb</td>\n",
       "      <td>2023</td>\n",
       "      <td>Low Crossings</td>\n",
       "      <td>4076706895</td>\n",
       "      <td>1.0</td>\n",
       "    </tr>\n",
       "    <tr>\n",
       "      <th>2</th>\n",
       "      <td>Skagway</td>\n",
       "      <td>Alaska</td>\n",
       "      <td>US-Canada Border</td>\n",
       "      <td>Pedestrians</td>\n",
       "      <td>1</td>\n",
       "      <td>59.630</td>\n",
       "      <td>-135.164</td>\n",
       "      <td>Feb</td>\n",
       "      <td>2023</td>\n",
       "      <td>Low Crossings</td>\n",
       "      <td>15399123</td>\n",
       "      <td>1.0</td>\n",
       "    </tr>\n",
       "    <tr>\n",
       "      <th>3</th>\n",
       "      <td>Brownsville</td>\n",
       "      <td>Texas</td>\n",
       "      <td>US-Mexico Border</td>\n",
       "      <td>Trains</td>\n",
       "      <td>70</td>\n",
       "      <td>25.952</td>\n",
       "      <td>-97.401</td>\n",
       "      <td>Feb</td>\n",
       "      <td>2023</td>\n",
       "      <td>Low Crossings</td>\n",
       "      <td>4076706895</td>\n",
       "      <td>1.0</td>\n",
       "    </tr>\n",
       "    <tr>\n",
       "      <th>4</th>\n",
       "      <td>Sault Sainte Marie</td>\n",
       "      <td>Michigan</td>\n",
       "      <td>US-Canada Border</td>\n",
       "      <td>Truck Containers Loaded</td>\n",
       "      <td>2322</td>\n",
       "      <td>46.509</td>\n",
       "      <td>-84.361</td>\n",
       "      <td>Feb</td>\n",
       "      <td>2023</td>\n",
       "      <td>Low Crossings</td>\n",
       "      <td>812680737</td>\n",
       "      <td>1.0</td>\n",
       "    </tr>\n",
       "    <tr>\n",
       "      <th>5</th>\n",
       "      <td>Lukeville</td>\n",
       "      <td>Arizona</td>\n",
       "      <td>US-Mexico Border</td>\n",
       "      <td>Pedestrians</td>\n",
       "      <td>6383</td>\n",
       "      <td>31.880</td>\n",
       "      <td>-112.817</td>\n",
       "      <td>Feb</td>\n",
       "      <td>2023</td>\n",
       "      <td>Low Crossings</td>\n",
       "      <td>1008310869</td>\n",
       "      <td>1.0</td>\n",
       "    </tr>\n",
       "  </tbody>\n",
       "</table>\n",
       "</div>"
      ],
      "text/plain": [
       "            Port Name     State            Border          Crossing Method  \\\n",
       "0             Del Rio     Texas  US-Mexico Border                   Trucks   \n",
       "2             Skagway    Alaska  US-Canada Border              Pedestrians   \n",
       "3         Brownsville     Texas  US-Mexico Border                   Trains   \n",
       "4  Sault Sainte Marie  Michigan  US-Canada Border  Truck Containers Loaded   \n",
       "5           Lukeville   Arizona  US-Mexico Border              Pedestrians   \n",
       "\n",
       "   Count of Crossing  Latitude  Longitude Month  Year Count Category  \\\n",
       "0               5823    29.327   -100.928   Feb  2023  Low Crossings   \n",
       "2                  1    59.630   -135.164   Feb  2023  Low Crossings   \n",
       "3                 70    25.952    -97.401   Feb  2023  Low Crossings   \n",
       "4               2322    46.509    -84.361   Feb  2023  Low Crossings   \n",
       "5               6383    31.880   -112.817   Feb  2023  Low Crossings   \n",
       "\n",
       "   State Total  Month Code  \n",
       "0   4076706895         1.0  \n",
       "2     15399123         1.0  \n",
       "3   4076706895         1.0  \n",
       "4    812680737         1.0  \n",
       "5   1008310869         1.0  "
      ]
     },
     "execution_count": 8,
     "metadata": {},
     "output_type": "execute_result"
    }
   ],
   "source": [
    "df_border.head()"
   ]
  },
  {
   "cell_type": "code",
   "execution_count": 9,
   "id": "e462c6b3",
   "metadata": {},
   "outputs": [],
   "source": [
    "# creating new columns for month total counts\n",
    "df_border['Month Total']=df_border.groupby(['Month'])['Count of Crossing'].transform(np.sum)"
   ]
  },
  {
   "cell_type": "code",
   "execution_count": 10,
   "id": "228c6f4a",
   "metadata": {},
   "outputs": [
    {
     "data": {
      "text/html": [
       "<div>\n",
       "<style scoped>\n",
       "    .dataframe tbody tr th:only-of-type {\n",
       "        vertical-align: middle;\n",
       "    }\n",
       "\n",
       "    .dataframe tbody tr th {\n",
       "        vertical-align: top;\n",
       "    }\n",
       "\n",
       "    .dataframe thead th {\n",
       "        text-align: right;\n",
       "    }\n",
       "</style>\n",
       "<table border=\"1\" class=\"dataframe\">\n",
       "  <thead>\n",
       "    <tr style=\"text-align: right;\">\n",
       "      <th></th>\n",
       "      <th>Port Name</th>\n",
       "      <th>State</th>\n",
       "      <th>Border</th>\n",
       "      <th>Crossing Method</th>\n",
       "      <th>Count of Crossing</th>\n",
       "      <th>Latitude</th>\n",
       "      <th>Longitude</th>\n",
       "      <th>Month</th>\n",
       "      <th>Year</th>\n",
       "      <th>Count Category</th>\n",
       "      <th>State Total</th>\n",
       "      <th>Month Code</th>\n",
       "      <th>Month Total</th>\n",
       "    </tr>\n",
       "  </thead>\n",
       "  <tbody>\n",
       "    <tr>\n",
       "      <th>0</th>\n",
       "      <td>Del Rio</td>\n",
       "      <td>Texas</td>\n",
       "      <td>US-Mexico Border</td>\n",
       "      <td>Trucks</td>\n",
       "      <td>5823</td>\n",
       "      <td>29.327</td>\n",
       "      <td>-100.928</td>\n",
       "      <td>Feb</td>\n",
       "      <td>2023</td>\n",
       "      <td>Low Crossings</td>\n",
       "      <td>4076706895</td>\n",
       "      <td>1.0</td>\n",
       "      <td>822883011</td>\n",
       "    </tr>\n",
       "    <tr>\n",
       "      <th>2</th>\n",
       "      <td>Skagway</td>\n",
       "      <td>Alaska</td>\n",
       "      <td>US-Canada Border</td>\n",
       "      <td>Pedestrians</td>\n",
       "      <td>1</td>\n",
       "      <td>59.630</td>\n",
       "      <td>-135.164</td>\n",
       "      <td>Feb</td>\n",
       "      <td>2023</td>\n",
       "      <td>Low Crossings</td>\n",
       "      <td>15399123</td>\n",
       "      <td>1.0</td>\n",
       "      <td>822883011</td>\n",
       "    </tr>\n",
       "    <tr>\n",
       "      <th>3</th>\n",
       "      <td>Brownsville</td>\n",
       "      <td>Texas</td>\n",
       "      <td>US-Mexico Border</td>\n",
       "      <td>Trains</td>\n",
       "      <td>70</td>\n",
       "      <td>25.952</td>\n",
       "      <td>-97.401</td>\n",
       "      <td>Feb</td>\n",
       "      <td>2023</td>\n",
       "      <td>Low Crossings</td>\n",
       "      <td>4076706895</td>\n",
       "      <td>1.0</td>\n",
       "      <td>822883011</td>\n",
       "    </tr>\n",
       "    <tr>\n",
       "      <th>4</th>\n",
       "      <td>Sault Sainte Marie</td>\n",
       "      <td>Michigan</td>\n",
       "      <td>US-Canada Border</td>\n",
       "      <td>Truck Containers Loaded</td>\n",
       "      <td>2322</td>\n",
       "      <td>46.509</td>\n",
       "      <td>-84.361</td>\n",
       "      <td>Feb</td>\n",
       "      <td>2023</td>\n",
       "      <td>Low Crossings</td>\n",
       "      <td>812680737</td>\n",
       "      <td>1.0</td>\n",
       "      <td>822883011</td>\n",
       "    </tr>\n",
       "    <tr>\n",
       "      <th>5</th>\n",
       "      <td>Lukeville</td>\n",
       "      <td>Arizona</td>\n",
       "      <td>US-Mexico Border</td>\n",
       "      <td>Pedestrians</td>\n",
       "      <td>6383</td>\n",
       "      <td>31.880</td>\n",
       "      <td>-112.817</td>\n",
       "      <td>Feb</td>\n",
       "      <td>2023</td>\n",
       "      <td>Low Crossings</td>\n",
       "      <td>1008310869</td>\n",
       "      <td>1.0</td>\n",
       "      <td>822883011</td>\n",
       "    </tr>\n",
       "  </tbody>\n",
       "</table>\n",
       "</div>"
      ],
      "text/plain": [
       "            Port Name     State            Border          Crossing Method  \\\n",
       "0             Del Rio     Texas  US-Mexico Border                   Trucks   \n",
       "2             Skagway    Alaska  US-Canada Border              Pedestrians   \n",
       "3         Brownsville     Texas  US-Mexico Border                   Trains   \n",
       "4  Sault Sainte Marie  Michigan  US-Canada Border  Truck Containers Loaded   \n",
       "5           Lukeville   Arizona  US-Mexico Border              Pedestrians   \n",
       "\n",
       "   Count of Crossing  Latitude  Longitude Month  Year Count Category  \\\n",
       "0               5823    29.327   -100.928   Feb  2023  Low Crossings   \n",
       "2                  1    59.630   -135.164   Feb  2023  Low Crossings   \n",
       "3                 70    25.952    -97.401   Feb  2023  Low Crossings   \n",
       "4               2322    46.509    -84.361   Feb  2023  Low Crossings   \n",
       "5               6383    31.880   -112.817   Feb  2023  Low Crossings   \n",
       "\n",
       "   State Total  Month Code  Month Total  \n",
       "0   4076706895         1.0    822883011  \n",
       "2     15399123         1.0    822883011  \n",
       "3   4076706895         1.0    822883011  \n",
       "4    812680737         1.0    822883011  \n",
       "5   1008310869         1.0    822883011  "
      ]
     },
     "execution_count": 10,
     "metadata": {},
     "output_type": "execute_result"
    }
   ],
   "source": [
    "df_border.head()"
   ]
  },
  {
   "cell_type": "code",
   "execution_count": 21,
   "id": "e270545b",
   "metadata": {},
   "outputs": [
    {
     "data": {
      "image/png": "[encoded data removed]",
      "text/plain": [
       "<Figure size 640x480 with 1 Axes>"
      ]
     },
     "metadata": {},
     "output_type": "display_data"
    }
   ],
   "source": [
    "# scatterplot using matplotlib\n",
    "\n",
    "df_border.plot(x = 'Month Code', y='Month Total',style='o')\n",
    "plt.title('Count of Crossings by Month')  \n",
    "plt.xlabel('Month')  \n",
    "plt.ylabel('Count of Crossing')  \n",
    "plt.show()"
   ]
  },
  {
   "cell_type": "code",
   "execution_count": 22,
   "id": "428ab17f",
   "metadata": {},
   "outputs": [],
   "source": [
    "# Reshape the variables into NumPy arrays and put them into separate objects.\n",
    "\n",
    "X = df_border['Month Code'].values.reshape(-1,1)\n",
    "y = df_border['Month Total'].values.reshape(-1,1)"
   ]
  },
  {
   "cell_type": "code",
   "execution_count": 23,
   "id": "ab39df0a",
   "metadata": {},
   "outputs": [
    {
     "data": {
      "text/plain": [
       "array([[ 1.],\n",
       "       [ 1.],\n",
       "       [ 1.],\n",
       "       ...,\n",
       "       [10.],\n",
       "       [ 2.],\n",
       "       [ 6.]])"
      ]
     },
     "execution_count": 23,
     "metadata": {},
     "output_type": "execute_result"
    }
   ],
   "source": [
    "X"
   ]
  },
  {
   "cell_type": "code",
   "execution_count": 24,
   "id": "bc99d9f7",
   "metadata": {},
   "outputs": [
    {
     "data": {
      "text/plain": [
       "array([[822883011],\n",
       "       [822883011],\n",
       "       [822883011],\n",
       "       ...,\n",
       "       [862598841],\n",
       "       [938287436],\n",
       "       [990377568]])"
      ]
     },
     "execution_count": 24,
     "metadata": {},
     "output_type": "execute_result"
    }
   ],
   "source": [
    "y"
   ]
  },
  {
   "cell_type": "code",
   "execution_count": 25,
   "id": "d0533246",
   "metadata": {},
   "outputs": [],
   "source": [
    "# Split data into a training set and a test set.\n",
    "X_train, X_test, y_train, y_test = train_test_split(X, y, test_size=0.3, random_state=0)"
   ]
  },
  {
   "cell_type": "markdown",
   "id": "9f27e4e6",
   "metadata": {},
   "source": [
    "### Regression Analysis"
   ]
  },
  {
   "cell_type": "code",
   "execution_count": 26,
   "id": "e95be524",
   "metadata": {},
   "outputs": [],
   "source": [
    "# Creating a regression object.\n",
    "regression = LinearRegression() "
   ]
  },
  {
   "cell_type": "code",
   "execution_count": 27,
   "id": "be06a927",
   "metadata": {},
   "outputs": [
    {
     "data": {
      "text/html": [
       "<style>#sk-container-id-2 {color: black;background-color: white;}#sk-container-id-2 pre{padding: 0;}#sk-container-id-2 div.sk-toggleable {background-color: white;}#sk-container-id-2 label.sk-toggleable__label {cursor: pointer;display: block;width: 100%;margin-bottom: 0;padding: 0.3em;box-sizing: border-box;text-align: center;}#sk-container-id-2 label.sk-toggleable__label-arrow:before {content: \"▸\";float: left;margin-right: 0.25em;color: #696969;}#sk-container-id-2 label.sk-toggleable__label-arrow:hover:before {color: black;}#sk-container-id-2 div.sk-estimator:hover label.sk-toggleable__label-arrow:before {color: black;}#sk-container-id-2 div.sk-toggleable__content {max-height: 0;max-width: 0;overflow: hidden;text-align: left;background-color: #f0f8ff;}#sk-container-id-2 div.sk-toggleable__content pre {margin: 0.2em;color: black;border-radius: 0.25em;background-color: #f0f8ff;}#sk-container-id-2 input.sk-toggleable__control:checked~div.sk-toggleable__content {max-height: 200px;max-width: 100%;overflow: auto;}#sk-container-id-2 input.sk-toggleable__control:checked~label.sk-toggleable__label-arrow:before {content: \"▾\";}#sk-container-id-2 div.sk-estimator input.sk-toggleable__control:checked~label.sk-toggleable__label {background-color: #d4ebff;}#sk-container-id-2 div.sk-label input.sk-toggleable__control:checked~label.sk-toggleable__label {background-color: #d4ebff;}#sk-container-id-2 input.sk-hidden--visually {border: 0;clip: rect(1px 1px 1px 1px);clip: rect(1px, 1px, 1px, 1px);height: 1px;margin: -1px;overflow: hidden;padding: 0;position: absolute;width: 1px;}#sk-container-id-2 div.sk-estimator {font-family: monospace;background-color: #f0f8ff;border: 1px dotted black;border-radius: 0.25em;box-sizing: border-box;margin-bottom: 0.5em;}#sk-container-id-2 div.sk-estimator:hover {background-color: #d4ebff;}#sk-container-id-2 div.sk-parallel-item::after {content: \"\";width: 100%;border-bottom: 1px solid gray;flex-grow: 1;}#sk-container-id-2 div.sk-label:hover label.sk-toggleable__label {background-color: #d4ebff;}#sk-container-id-2 div.sk-serial::before {content: \"\";position: absolute;border-left: 1px solid gray;box-sizing: border-box;top: 0;bottom: 0;left: 50%;z-index: 0;}#sk-container-id-2 div.sk-serial {display: flex;flex-direction: column;align-items: center;background-color: white;padding-right: 0.2em;padding-left: 0.2em;position: relative;}#sk-container-id-2 div.sk-item {position: relative;z-index: 1;}#sk-container-id-2 div.sk-parallel {display: flex;align-items: stretch;justify-content: center;background-color: white;position: relative;}#sk-container-id-2 div.sk-item::before, #sk-container-id-2 div.sk-parallel-item::before {content: \"\";position: absolute;border-left: 1px solid gray;box-sizing: border-box;top: 0;bottom: 0;left: 50%;z-index: -1;}#sk-container-id-2 div.sk-parallel-item {display: flex;flex-direction: column;z-index: 1;position: relative;background-color: white;}#sk-container-id-2 div.sk-parallel-item:first-child::after {align-self: flex-end;width: 50%;}#sk-container-id-2 div.sk-parallel-item:last-child::after {align-self: flex-start;width: 50%;}#sk-container-id-2 div.sk-parallel-item:only-child::after {width: 0;}#sk-container-id-2 div.sk-dashed-wrapped {border: 1px dashed gray;margin: 0 0.4em 0.5em 0.4em;box-sizing: border-box;padding-bottom: 0.4em;background-color: white;}#sk-container-id-2 div.sk-label label {font-family: monospace;font-weight: bold;display: inline-block;line-height: 1.2em;}#sk-container-id-2 div.sk-label-container {text-align: center;}#sk-container-id-2 div.sk-container {/* jupyter's `normalize.less` sets `[hidden] { display: none; }` but bootstrap.min.css set `[hidden] { display: none !important; }` so we also need the `!important` here to be able to override the default hidden behavior on the sphinx rendered scikit-learn.org. See: https://github.com/scikit-learn/scikit-learn/issues/21755 */display: inline-block !important;position: relative;}#sk-container-id-2 div.sk-text-repr-fallback {display: none;}</style><div id=\"sk-container-id-2\" class=\"sk-top-container\"><div class=\"sk-text-repr-fallback\"><pre>LinearRegression()</pre><b>In a Jupyter environment, please rerun this cell to show the HTML representation or trust the notebook. <br />On GitHub, the HTML representation is unable to render, please try loading this page with nbviewer.org.</b></div><div class=\"sk-container\" hidden><div class=\"sk-item\"><div class=\"sk-estimator sk-toggleable\"><input class=\"sk-toggleable__control sk-hidden--visually\" id=\"sk-estimator-id-2\" type=\"checkbox\" checked><label for=\"sk-estimator-id-2\" class=\"sk-toggleable__label sk-toggleable__label-arrow\">LinearRegression</label><div class=\"sk-toggleable__content\"><pre>LinearRegression()</pre></div></div></div></div></div>"
      ],
      "text/plain": [
       "LinearRegression()"
      ]
     },
     "execution_count": 27,
     "metadata": {},
     "output_type": "execute_result"
    }
   ],
   "source": [
    "regression.fit(X_train, y_train)"
   ]
  },
  {
   "cell_type": "code",
   "execution_count": 28,
   "id": "cf31a0f9",
   "metadata": {},
   "outputs": [],
   "source": [
    "# Predict the values of y using X.\n",
    "y_predicted = regression.predict(X_test)"
   ]
  },
  {
   "cell_type": "code",
   "execution_count": 29,
   "id": "133722d0",
   "metadata": {},
   "outputs": [
    {
     "data": {
      "image/png": "[encoded data removed]",
      "text/plain": [
       "<Figure size 640x480 with 1 Axes>"
      ]
     },
     "metadata": {},
     "output_type": "display_data"
    }
   ],
   "source": [
    "# Regression plot on the test set.\n",
    "\n",
    "plot_test = plt\n",
    "plot_test.scatter(X_test, y_test, color='gray', s = 15)\n",
    "plot_test.plot(X_test, y_predicted, color='red', linewidth =3)\n",
    "plot_test.title('Count of Crossings by Month (Test set)')\n",
    "plot_test.xlabel('Count of Crossings')\n",
    "plot_test.ylabel('Month')\n",
    "plot_test.show()"
   ]
  },
  {
   "cell_type": "markdown",
   "id": "65af9256",
   "metadata": {},
   "source": [
    "The regression line does not fit the test set and seems to be unable to predict this data."
   ]
  },
  {
   "cell_type": "code",
   "execution_count": 21,
   "id": "a603c2a8",
   "metadata": {},
   "outputs": [],
   "source": [
    "# Creating objects that contain the model summary statistics.\n",
    "rmse = mean_squared_error(y_test, y_predicted)\n",
    "r2 = r2_score(y_test, y_predicted)"
   ]
  },
  {
   "cell_type": "code",
   "execution_count": 22,
   "id": "857ace50",
   "metadata": {},
   "outputs": [
    {
     "name": "stdout",
     "output_type": "stream",
     "text": [
      "Slope: [[1757338.03690821]]\n",
      "Mean squared error:  2402316374651759.0\n",
      "R2 score:  0.01481122789300382\n"
     ]
    }
   ],
   "source": [
    "# Printing model summary statistics.\n",
    "print('Slope:' ,regression.coef_)\n",
    "print('Mean squared error: ', rmse)\n",
    "print('R2 score: ', r2)"
   ]
  },
  {
   "cell_type": "code",
   "execution_count": 23,
   "id": "af306d7f",
   "metadata": {},
   "outputs": [
    {
     "data": {
      "text/plain": [
       "array([[9.17764689e+08],\n",
       "       [9.21279366e+08],\n",
       "       [9.07220661e+08],\n",
       "       ...,\n",
       "       [9.21279366e+08],\n",
       "       [9.21279366e+08],\n",
       "       [9.12492675e+08]])"
      ]
     },
     "execution_count": 23,
     "metadata": {},
     "output_type": "execute_result"
    }
   ],
   "source": [
    "y_predicted"
   ]
  },
  {
   "cell_type": "code",
   "execution_count": 24,
   "id": "580b5378",
   "metadata": {},
   "outputs": [
    {
     "data": {
      "text/html": [
       "<div>\n",
       "<style scoped>\n",
       "    .dataframe tbody tr th:only-of-type {\n",
       "        vertical-align: middle;\n",
       "    }\n",
       "\n",
       "    .dataframe tbody tr th {\n",
       "        vertical-align: top;\n",
       "    }\n",
       "\n",
       "    .dataframe thead th {\n",
       "        text-align: right;\n",
       "    }\n",
       "</style>\n",
       "<table border=\"1\" class=\"dataframe\">\n",
       "  <thead>\n",
       "    <tr style=\"text-align: right;\">\n",
       "      <th></th>\n",
       "      <th>Actual</th>\n",
       "      <th>Predicted</th>\n",
       "    </tr>\n",
       "  </thead>\n",
       "  <tbody>\n",
       "    <tr>\n",
       "      <th>0</th>\n",
       "      <td>879095640</td>\n",
       "      <td>9.177647e+08</td>\n",
       "    </tr>\n",
       "    <tr>\n",
       "      <th>1</th>\n",
       "      <td>862598841</td>\n",
       "      <td>9.212794e+08</td>\n",
       "    </tr>\n",
       "    <tr>\n",
       "      <th>2</th>\n",
       "      <td>938287436</td>\n",
       "      <td>9.072207e+08</td>\n",
       "    </tr>\n",
       "    <tr>\n",
       "      <th>3</th>\n",
       "      <td>862598841</td>\n",
       "      <td>9.212794e+08</td>\n",
       "    </tr>\n",
       "    <tr>\n",
       "      <th>4</th>\n",
       "      <td>936734324</td>\n",
       "      <td>9.124927e+08</td>\n",
       "    </tr>\n",
       "    <tr>\n",
       "      <th>5</th>\n",
       "      <td>946530098</td>\n",
       "      <td>9.107353e+08</td>\n",
       "    </tr>\n",
       "    <tr>\n",
       "      <th>6</th>\n",
       "      <td>822883011</td>\n",
       "      <td>9.054633e+08</td>\n",
       "    </tr>\n",
       "    <tr>\n",
       "      <th>7</th>\n",
       "      <td>990377568</td>\n",
       "      <td>9.142500e+08</td>\n",
       "    </tr>\n",
       "    <tr>\n",
       "      <th>8</th>\n",
       "      <td>999866076</td>\n",
       "      <td>9.160074e+08</td>\n",
       "    </tr>\n",
       "    <tr>\n",
       "      <th>9</th>\n",
       "      <td>990377568</td>\n",
       "      <td>9.142500e+08</td>\n",
       "    </tr>\n",
       "    <tr>\n",
       "      <th>10</th>\n",
       "      <td>910717899</td>\n",
       "      <td>9.230367e+08</td>\n",
       "    </tr>\n",
       "    <tr>\n",
       "      <th>11</th>\n",
       "      <td>938287436</td>\n",
       "      <td>9.072207e+08</td>\n",
       "    </tr>\n",
       "    <tr>\n",
       "      <th>12</th>\n",
       "      <td>879095640</td>\n",
       "      <td>9.177647e+08</td>\n",
       "    </tr>\n",
       "    <tr>\n",
       "      <th>13</th>\n",
       "      <td>822883011</td>\n",
       "      <td>9.054633e+08</td>\n",
       "    </tr>\n",
       "    <tr>\n",
       "      <th>14</th>\n",
       "      <td>881348500</td>\n",
       "      <td>9.037060e+08</td>\n",
       "    </tr>\n",
       "    <tr>\n",
       "      <th>15</th>\n",
       "      <td>936734324</td>\n",
       "      <td>9.124927e+08</td>\n",
       "    </tr>\n",
       "    <tr>\n",
       "      <th>16</th>\n",
       "      <td>946530098</td>\n",
       "      <td>9.107353e+08</td>\n",
       "    </tr>\n",
       "    <tr>\n",
       "      <th>17</th>\n",
       "      <td>862598841</td>\n",
       "      <td>9.212794e+08</td>\n",
       "    </tr>\n",
       "    <tr>\n",
       "      <th>18</th>\n",
       "      <td>896700557</td>\n",
       "      <td>9.089780e+08</td>\n",
       "    </tr>\n",
       "    <tr>\n",
       "      <th>19</th>\n",
       "      <td>879095640</td>\n",
       "      <td>9.177647e+08</td>\n",
       "    </tr>\n",
       "    <tr>\n",
       "      <th>20</th>\n",
       "      <td>891798561</td>\n",
       "      <td>9.195220e+08</td>\n",
       "    </tr>\n",
       "    <tr>\n",
       "      <th>21</th>\n",
       "      <td>891798561</td>\n",
       "      <td>9.195220e+08</td>\n",
       "    </tr>\n",
       "    <tr>\n",
       "      <th>22</th>\n",
       "      <td>938287436</td>\n",
       "      <td>9.072207e+08</td>\n",
       "    </tr>\n",
       "    <tr>\n",
       "      <th>23</th>\n",
       "      <td>891798561</td>\n",
       "      <td>9.195220e+08</td>\n",
       "    </tr>\n",
       "    <tr>\n",
       "      <th>24</th>\n",
       "      <td>879095640</td>\n",
       "      <td>9.177647e+08</td>\n",
       "    </tr>\n",
       "    <tr>\n",
       "      <th>25</th>\n",
       "      <td>936734324</td>\n",
       "      <td>9.124927e+08</td>\n",
       "    </tr>\n",
       "    <tr>\n",
       "      <th>26</th>\n",
       "      <td>862598841</td>\n",
       "      <td>9.212794e+08</td>\n",
       "    </tr>\n",
       "    <tr>\n",
       "      <th>27</th>\n",
       "      <td>879095640</td>\n",
       "      <td>9.177647e+08</td>\n",
       "    </tr>\n",
       "    <tr>\n",
       "      <th>28</th>\n",
       "      <td>891798561</td>\n",
       "      <td>9.195220e+08</td>\n",
       "    </tr>\n",
       "    <tr>\n",
       "      <th>29</th>\n",
       "      <td>946530098</td>\n",
       "      <td>9.107353e+08</td>\n",
       "    </tr>\n",
       "  </tbody>\n",
       "</table>\n",
       "</div>"
      ],
      "text/plain": [
       "       Actual     Predicted\n",
       "0   879095640  9.177647e+08\n",
       "1   862598841  9.212794e+08\n",
       "2   938287436  9.072207e+08\n",
       "3   862598841  9.212794e+08\n",
       "4   936734324  9.124927e+08\n",
       "5   946530098  9.107353e+08\n",
       "6   822883011  9.054633e+08\n",
       "7   990377568  9.142500e+08\n",
       "8   999866076  9.160074e+08\n",
       "9   990377568  9.142500e+08\n",
       "10  910717899  9.230367e+08\n",
       "11  938287436  9.072207e+08\n",
       "12  879095640  9.177647e+08\n",
       "13  822883011  9.054633e+08\n",
       "14  881348500  9.037060e+08\n",
       "15  936734324  9.124927e+08\n",
       "16  946530098  9.107353e+08\n",
       "17  862598841  9.212794e+08\n",
       "18  896700557  9.089780e+08\n",
       "19  879095640  9.177647e+08\n",
       "20  891798561  9.195220e+08\n",
       "21  891798561  9.195220e+08\n",
       "22  938287436  9.072207e+08\n",
       "23  891798561  9.195220e+08\n",
       "24  879095640  9.177647e+08\n",
       "25  936734324  9.124927e+08\n",
       "26  862598841  9.212794e+08\n",
       "27  879095640  9.177647e+08\n",
       "28  891798561  9.195220e+08\n",
       "29  946530098  9.107353e+08"
      ]
     },
     "execution_count": 24,
     "metadata": {},
     "output_type": "execute_result"
    }
   ],
   "source": [
    "# Dataframe comparing the actual and predicted values of y.\n",
    "\n",
    "data = pd.DataFrame({'Actual': y_test.flatten(), 'Predicted': y_predicted.flatten()})\n",
    "data.head(30)"
   ]
  },
  {
   "cell_type": "markdown",
   "id": "7d78516d",
   "metadata": {},
   "source": [
    "### Comparing how the regression fits the training set"
   ]
  },
  {
   "cell_type": "code",
   "execution_count": 25,
   "id": "c6410ddc",
   "metadata": {},
   "outputs": [],
   "source": [
    "# Prediction\n",
    "y_predicted_train = regression.predict(X_train)"
   ]
  },
  {
   "cell_type": "code",
   "execution_count": 26,
   "id": "32d6c5b9",
   "metadata": {},
   "outputs": [],
   "source": [
    "rmse = mean_squared_error(y_train, y_predicted_train)\n",
    "r2 = r2_score(y_train, y_predicted_train)"
   ]
  },
  {
   "cell_type": "code",
   "execution_count": 27,
   "id": "0e2aee33",
   "metadata": {},
   "outputs": [
    {
     "name": "stdout",
     "output_type": "stream",
     "text": [
      "Slope: [[1757338.03690821]]\n",
      "Mean squared error:  2410110710246235.5\n",
      "R2 score:  0.014878549599626534\n"
     ]
    }
   ],
   "source": [
    "print('Slope:' ,regression.coef_)\n",
    "print('Mean squared error: ', rmse)\n",
    "print('R2 score: ', r2)"
   ]
  },
  {
   "cell_type": "code",
   "execution_count": 28,
   "id": "c29259d7",
   "metadata": {},
   "outputs": [
    {
     "data": {
      "image/png": "[encoded data removed]",
      "text/plain": [
       "<Figure size 640x480 with 1 Axes>"
      ]
     },
     "metadata": {},
     "output_type": "display_data"
    }
   ],
   "source": [
    "# Visualizing the training set results.\n",
    "\n",
    "plot_test = plt\n",
    "plot_test.scatter(X_train, y_train, color='green', s = 15)\n",
    "plot_test.plot(X_train, y_predicted_train, color='red', linewidth =3)\n",
    "plot_test.title('Count of Crossings by Month(Test set)')\n",
    "plot_test.xlabel('Count of Crossings')\n",
    "plot_test.ylabel('Month')\n",
    "plot_test.show()"
   ]
  },
  {
   "cell_type": "markdown",
   "id": "3c62ee58",
   "metadata": {},
   "source": [
    "The regression model was unable to predict the monthly crossings, likely due to the lack of patterns shown in the scatterplot. It is possible that separating out the data by Canadian border and Mexican border may show more of a patterns in monthly border crossings. "
   ]
  },
  {
   "cell_type": "code",
   "execution_count": 30,
   "id": "cfb83361",
   "metadata": {},
   "outputs": [
    {
     "name": "stderr",
     "output_type": "stream",
     "text": [
      "/var/folders/z2/0zshgjn917v11pctr85j0spw0000gn/T/ipykernel_72618/3518388024.py:1: FutureWarning: The default value of numeric_only in DataFrameGroupBy.sum is deprecated. In a future version, numeric_only will default to False. Either specify numeric_only or select only columns which should be valid for the function.\n",
      "  df_border.groupby(['Border','Month']).sum()['Count of Crossing']\n"
     ]
    },
    {
     "data": {
      "text/plain": [
       "Border            Month\n",
       "US-Canada Border  Apr      222776344\n",
       "                  Aug      327043359\n",
       "                  Dec      207173948\n",
       "                  Feb      191273992\n",
       "                  Jan      195814983\n",
       "                  Jul      315644207\n",
       "                  Jun      268880163\n",
       "                  Mar      224445882\n",
       "                  May      253275775\n",
       "                  Nov      211066520\n",
       "                  Oct      237063590\n",
       "                  Sep      251724194\n",
       "US-Mexico Border  Apr      673924213\n",
       "                  Aug      672822717\n",
       "                  Dec      703543951\n",
       "                  Feb      631609019\n",
       "                  Jan      685533517\n",
       "                  Jul      674733361\n",
       "                  Jun      667854161\n",
       "                  Mar      713841554\n",
       "                  May      693254323\n",
       "                  Nov      651532321\n",
       "                  Oct      654734971\n",
       "                  Sep      627371446\n",
       "Name: Count of Crossing, dtype: int64"
      ]
     },
     "execution_count": 30,
     "metadata": {},
     "output_type": "execute_result"
    }
   ],
   "source": [
    "df_border.groupby(['Border','Month']).sum()['Count of Crossing']"
   ]
  },
  {
   "cell_type": "code",
   "execution_count": 32,
   "id": "7acd0c6b",
   "metadata": {},
   "outputs": [],
   "source": [
    "# exporting data\n",
    "df_border.to_csv(os.path.join(path, 'Prepared', 'Border_Regression.csv'))"
   ]
  },
  {
   "cell_type": "code",
   "execution_count": null,
   "id": "450b3d17",
   "metadata": {},
   "outputs": [],
   "source": []
  }
 ],
 "metadata": {
  "kernelspec": {
   "display_name": "Python 3 (ipykernel)",
   "language": "python",
   "name": "python3"
  },
  "language_info": {
   "codemirror_mode": {
    "name": "ipython",
    "version": 3
   },
   "file_extension": ".py",
   "mimetype": "text/x-python",
   "name": "python",
   "nbconvert_exporter": "python",
   "pygments_lexer": "ipython3",
   "version": "3.10.9"
  }
 },
 "nbformat": 4,
 "nbformat_minor": 5
}
